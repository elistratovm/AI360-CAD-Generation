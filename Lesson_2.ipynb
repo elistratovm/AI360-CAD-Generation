{
 "cells": [
  {
   "cell_type": "markdown",
   "id": "21a35ebd",
   "metadata": {},
   "source": [
    "# Особые возможности библиотеки CadQuery"
   ]
  },
  {
   "cell_type": "code",
   "execution_count": 1,
   "id": "d7b278a2-4e1b-4791-88c6-a5198866d546",
   "metadata": {},
   "outputs": [
    {
     "name": "stdout",
     "output_type": "stream",
     "text": [
      "Overwriting auto display for cadquery Workplane and Shape\n"
     ]
    }
   ],
   "source": [
    "import cadquery as cq\n",
    "from jupyter_cadquery import show"
   ]
  },
  {
   "cell_type": "code",
   "execution_count": 17,
   "id": "e2a5e2ee-0de9-4d59-bec9-f5785d86348b",
   "metadata": {},
   "outputs": [
    {
     "data": {
      "application/vnd.jupyter.widget-view+json": {
       "model_id": "0cdc1599d9074e88b2080635c57b56da",
       "version_major": 2,
       "version_minor": 0
      },
      "text/plain": [
       "CadViewerWidget(anchor=None, cad_width=800, glass=False, height=600, pinning=False, theme='light', title=None,…"
      ]
     },
     "metadata": {},
     "output_type": "display_data"
    },
    {
     "data": {
      "text/html": [
       "<div></div>"
      ],
      "text/plain": [
       "<IPython.core.display.HTML object>"
      ]
     },
     "metadata": {},
     "output_type": "display_data"
    },
    {
     "data": {
      "text/plain": [
       "<cad_viewer_widget.widget.CadViewer at 0x22e03832bf0>"
      ]
     },
     "execution_count": 17,
     "metadata": {},
     "output_type": "execute_result"
    }
   ],
   "source": [
    "# Элемент по траектории (Sweep)\n",
    "\n",
    "s = cq.Workplane(\"XZ\", origin=(-5, 0, 0))\n",
    "points = [\n",
    "    (-1, 0),\n",
    "    (-1, 5),\n",
    "    (-5, 5),\n",
    "    (-5, 8),\n",
    "    (-7, 8),\n",
    "    (-7, 0),\n",
    "]\n",
    "r = s.polyline(points, includeCurrent=False).close()\n",
    "\n",
    "tube = (\n",
    "    cq.Workplane('YZ', origin=(-5, 0, 0))\n",
    "    .circle(0.5)\n",
    "    .sweep(r)\n",
    ")\n",
    "\n",
    "show(tube)"
   ]
  },
  {
   "cell_type": "code",
   "execution_count": 4,
   "id": "ddee81d0-bcff-4d80-beb3-5eff681a8500",
   "metadata": {},
   "outputs": [
    {
     "data": {
      "application/vnd.jupyter.widget-view+json": {
       "model_id": "69a9159e03964306b768c85a8a7ee85a",
       "version_major": 2,
       "version_minor": 0
      },
      "text/plain": [
       "CadViewerWidget(anchor=None, cad_width=800, glass=False, height=600, pinning=False, theme='light', title=None,…"
      ]
     },
     "metadata": {},
     "output_type": "display_data"
    },
    {
     "data": {
      "text/html": [
       "<div></div>"
      ],
      "text/plain": [
       "<IPython.core.display.HTML object>"
      ]
     },
     "metadata": {},
     "output_type": "display_data"
    },
    {
     "data": {
      "text/plain": [
       "<cad_viewer_widget.widget.CadViewer at 0x22e5aaebb20>"
      ]
     },
     "execution_count": 4,
     "metadata": {},
     "output_type": "execute_result"
    }
   ],
   "source": [
    "# Элемент по сечениям (Loft)\n",
    "\n",
    "loft = (\n",
    "        cq.Workplane('XY')\n",
    "        .rect(5, 5)\n",
    "        .workplane(offset=3.0)\n",
    "        .circle(2)\n",
    "        .workplane(offset=3.0)\n",
    "        .rect(5,5)\n",
    "        .loft()\n",
    ")\n",
    "\n",
    "show(loft)"
   ]
  },
  {
   "cell_type": "code",
   "execution_count": 6,
   "id": "bd819712-70e1-4c24-b4ad-531eaec5a795",
   "metadata": {},
   "outputs": [
    {
     "data": {
      "application/vnd.jupyter.widget-view+json": {
       "model_id": "08553b17c7ef4a0b903375bfda20db1f",
       "version_major": 2,
       "version_minor": 0
      },
      "text/plain": [
       "CadViewerWidget(anchor=None, cad_width=800, glass=False, height=600, pinning=False, theme='light', title=None,…"
      ]
     },
     "metadata": {},
     "output_type": "display_data"
    },
    {
     "data": {
      "text/html": [
       "<div></div>"
      ],
      "text/plain": [
       "<IPython.core.display.HTML object>"
      ]
     },
     "metadata": {},
     "output_type": "display_data"
    },
    {
     "data": {
      "text/plain": [
       "<cad_viewer_widget.widget.CadViewer at 0x22e0373e650>"
      ]
     },
     "execution_count": 6,
     "metadata": {},
     "output_type": "execute_result"
    }
   ],
   "source": [
    "# Булевы операции (Boolean) - combine, clear, both и т.д.\n",
    "\n",
    "element = (\n",
    "        cq.Workplane('XY')\n",
    "        .rect(5, 5)\n",
    "        .workplane(offset=3.0)\n",
    "        .circle(2)\n",
    "        .workplane(offset=3.0)\n",
    "        .rect(5,5)\n",
    "        .loft()\n",
    "        .rect(3, 2)\n",
    "        .extrude(12, combine='cut').clean()\n",
    ")\n",
    "\n",
    "show(element)"
   ]
  },
  {
   "cell_type": "code",
   "execution_count": 7,
   "id": "5c0175ed-f0f4-404c-bc8c-899410bea965",
   "metadata": {},
   "outputs": [
    {
     "data": {
      "application/vnd.jupyter.widget-view+json": {
       "model_id": "c26b52d7aed64525a8c4dd800f76de95",
       "version_major": 2,
       "version_minor": 0
      },
      "text/plain": [
       "CadViewerWidget(anchor=None, cad_width=800, glass=False, height=600, pinning=False, theme='light', title=None,…"
      ]
     },
     "metadata": {},
     "output_type": "display_data"
    },
    {
     "data": {
      "text/html": [
       "<div></div>"
      ],
      "text/plain": [
       "<IPython.core.display.HTML object>"
      ]
     },
     "metadata": {},
     "output_type": "display_data"
    },
    {
     "data": {
      "text/plain": [
       "<cad_viewer_widget.widget.CadViewer at 0x22e0373efe0>"
      ]
     },
     "execution_count": 7,
     "metadata": {},
     "output_type": "execute_result"
    }
   ],
   "source": [
    "# Обечайка (Shell)\n",
    "\n",
    "shell = (\n",
    "      cq.Workplane('XY')\n",
    "      .circle(2)\n",
    "      .extrude(2, both=True)\n",
    "      .faces(\"+Z\") # грань с нормалью в направлении +Z\n",
    "      .shell(0.1)\n",
    ")\n",
    "\n",
    "show(shell)"
   ]
  },
  {
   "cell_type": "code",
   "execution_count": 8,
   "id": "1b40748d-478c-4ca0-b657-eb8f3af602d7",
   "metadata": {},
   "outputs": [
    {
     "data": {
      "application/vnd.jupyter.widget-view+json": {
       "model_id": "fb4fb7d34c14485fb9e2245c1f1919f6",
       "version_major": 2,
       "version_minor": 0
      },
      "text/plain": [
       "CadViewerWidget(anchor=None, cad_width=800, glass=False, height=600, pinning=False, theme='light', title=None,…"
      ]
     },
     "metadata": {},
     "output_type": "display_data"
    },
    {
     "data": {
      "text/html": [
       "<div></div>"
      ],
      "text/plain": [
       "<IPython.core.display.HTML object>"
      ]
     },
     "metadata": {},
     "output_type": "display_data"
    },
    {
     "data": {
      "text/plain": [
       "<cad_viewer_widget.widget.CadViewer at 0x22e0373faf0>"
      ]
     },
     "execution_count": 8,
     "metadata": {},
     "output_type": "execute_result"
    }
   ],
   "source": [
    "# Отверстие (Hole)\n",
    "\n",
    "holes = (\n",
    "      cq.Workplane('XY')\n",
    "      .rect(2, 2)\n",
    "      .extrude(1, both=True)\n",
    "      .faces('>Z') # выбираем самую верхнюю грань результирующего блока\n",
    "      .rect(1,1)\n",
    "      .vertices()\n",
    "      .hole(0.25) # простое отверстие\n",
    "      .faces('>Z')\n",
    "      .cboreHole(0.125, 0.5, 0.125, depth=None) # зенкованное отверстие\n",
    "      #.cskHole(0.125, 0.5, 0.125, depth=None) # потайное отверстие\n",
    ")\n",
    "\n",
    "show(holes)"
   ]
  },
  {
   "cell_type": "code",
   "execution_count": 9,
   "id": "4846e485-1028-46bc-a96f-d524d36608a9",
   "metadata": {},
   "outputs": [
    {
     "name": "stdout",
     "output_type": "stream",
     "text": [
      "100% ⋮————————————————————————————————————————————————————————————⋮ (2/2)  0.41s\n"
     ]
    },
    {
     "data": {
      "application/vnd.jupyter.widget-view+json": {
       "model_id": "dac90e7eb745445da782b3f6a06ec336",
       "version_major": 2,
       "version_minor": 0
      },
      "text/plain": [
       "CadViewerWidget(anchor=None, cad_width=800, glass=False, height=600, pinning=False, theme='light', title=None,…"
      ]
     },
     "metadata": {},
     "output_type": "display_data"
    },
    {
     "data": {
      "text/html": [
       "<div></div>"
      ],
      "text/plain": [
       "<IPython.core.display.HTML object>"
      ]
     },
     "metadata": {},
     "output_type": "display_data"
    },
    {
     "data": {
      "text/plain": [
       "<cad_viewer_widget.widget.CadViewer at 0x22e5ac79150>"
      ]
     },
     "execution_count": 9,
     "metadata": {},
     "output_type": "execute_result"
    }
   ],
   "source": [
    "# Надписи / гравировки (Text)\n",
    "\n",
    "text_1 = cq.Workplane().text(\"CAD-generation\", 4, 5).translate((0, 8, 0))\n",
    "text_2 = (\n",
    "       cq.Workplane()\n",
    "       .box(10, 10, 5)\n",
    "       .faces('>Z')\n",
    "       .workplane()\n",
    "       .text('AIRI', 5, -1)\n",
    ")\n",
    "\n",
    "show(text_1, text_2)"
   ]
  },
  {
   "cell_type": "code",
   "execution_count": 12,
   "id": "e2bbd328-e412-4796-bd73-d995c1c6a21b",
   "metadata": {},
   "outputs": [
    {
     "data": {
      "application/vnd.jupyter.widget-view+json": {
       "model_id": "f77d2115034848bbbcffc72f79bd5bac",
       "version_major": 2,
       "version_minor": 0
      },
      "text/plain": [
       "CadViewerWidget(anchor=None, cad_width=800, glass=False, height=600, pinning=False, theme='light', title=None,…"
      ]
     },
     "metadata": {},
     "output_type": "display_data"
    },
    {
     "data": {
      "text/html": [
       "<div></div>"
      ],
      "text/plain": [
       "<IPython.core.display.HTML object>"
      ]
     },
     "metadata": {},
     "output_type": "display_data"
    },
    {
     "data": {
      "text/plain": [
       "<cad_viewer_widget.widget.CadViewer at 0x22e037d4c10>"
      ]
     },
     "execution_count": 12,
     "metadata": {},
     "output_type": "execute_result"
    }
   ],
   "source": [
    "# Массивы (Array, Pattern): rarray - XYZ, но можно и polarArray - в полярных\n",
    "\n",
    "test = cq.Sketch().rarray(1.0, 2.0, 3, 2).circle(0.5)\n",
    "# test - это матрица из точек, расположенных с шагом 1.0 по X\n",
    "# и 2.0 по Y, с тремя точками по X и двумя по Y\n",
    "result_sketch = cq.Workplane().placeSketch(test).extrude(5)\n",
    "\n",
    "# Можем сразу в 3D:\n",
    "\n",
    "result = (\n",
    "         cq.Workplane()\n",
    "         .rarray(1.0, 2.0, 3, 2)\n",
    "         .circle(0.5)\n",
    "         .extrude(5)\n",
    ")\n",
    "\n",
    "show(result)"
   ]
  },
  {
   "cell_type": "markdown",
   "id": "5c9a86d7",
   "metadata": {},
   "source": [
    "# Ваш концепт, решающий задачи проекта?"
   ]
  }
 ],
 "metadata": {
  "kernelspec": {
   "display_name": "cadquery-env",
   "language": "python",
   "name": "cadquery-env"
  },
  "language_info": {
   "codemirror_mode": {
    "name": "ipython",
    "version": 3
   },
   "file_extension": ".py",
   "mimetype": "text/x-python",
   "name": "python",
   "nbconvert_exporter": "python",
   "pygments_lexer": "ipython3",
   "version": "3.10.0"
  }
 },
 "nbformat": 4,
 "nbformat_minor": 5
}
